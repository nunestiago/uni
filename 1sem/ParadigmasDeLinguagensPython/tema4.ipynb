{
 "cells": [
  {
   "cell_type": "code",
   "execution_count": 1,
   "metadata": {},
   "outputs": [],
   "source": [
    "class Pessoa:\n",
    "    def __init__(self, nome, ender):\n",
    "        self.set_nome(nome)\n",
    "        self.set_ender(ender)\n",
    "    \n",
    "    def set_nome(self, nome):\n",
    "        self.nome = nome\n",
    "    \n",
    "    def set_ender(self, ender):\n",
    "        self.ender = ender\n",
    "    \n",
    "    def get_nome(self):\n",
    "        return self.nome\n",
    "    \n",
    "    def get_ender(self):\n",
    "        return self.ender"
   ]
  },
  {
   "cell_type": "code",
   "execution_count": 2,
   "metadata": {},
   "outputs": [
    {
     "name": "stdout",
     "output_type": "stream",
     "text": [
      "João Rua 1\n"
     ]
    }
   ],
   "source": [
    "pessoa1 = Pessoa('João', 'Rua 1')\n",
    "print(pessoa1.get_nome(), pessoa1.get_ender())"
   ]
  },
  {
   "cell_type": "code",
   "execution_count": 6,
   "metadata": {},
   "outputs": [
    {
     "name": "stdout",
     "output_type": "stream",
     "text": [
      "12380\n",
      "1333332\n",
      "12380\n"
     ]
    }
   ],
   "source": [
    "class Salario:\n",
    "    def __init__(self, base, bonus):\n",
    "        self.set_base(base)\n",
    "        self.set_bonus(bonus)\n",
    "    \n",
    "    def set_base(self, base):\n",
    "        self.base = base\n",
    "    \n",
    "    def set_bonus(self, bonus):\n",
    "        self.bonus = bonus\n",
    "    \n",
    "    def salario_anual(self):\n",
    "        return (self.base*12)+ self.bonus\n",
    "\n",
    "class Empregado:\n",
    "    def __init__(self, nome, idade, salario):\n",
    "        self.nome = nome\n",
    "        self.idade = idade\n",
    "        self.salario_agregado = salario\n",
    "    \n",
    "    def salario_total(self):\n",
    "        return self.salario_agregado.salario_anual()\n",
    "    \n",
    "print(Empregado('João', 24, Salario(990, 500)).salario_total())"
   ]
  },
  {
   "cell_type": "code",
   "execution_count": 7,
   "metadata": {},
   "outputs": [
    {
     "name": "stdout",
     "output_type": "stream",
     "text": [
      "João 24\n",
      "Maria 33\n"
     ]
    }
   ],
   "source": [
    "from datetime import date\n",
    "\n",
    "\n",
    "class OutraPessoa:\n",
    "    def __init__(self, nome, idade) -> None:\n",
    "        self.nome = nome\n",
    "        self.idade = idade\n",
    "\n",
    "    @classmethod\n",
    "    def aPartirDeAno(cls, nome, ano):\n",
    "        return cls(nome, date.today().year - ano)\n",
    "    \n",
    "    @staticmethod\n",
    "    def eMaiorDeIdade(idade):\n",
    "        return idade >= 18\n",
    "\n",
    "pessoa1 = OutraPessoa('João', 24)\n",
    "pessoa2 = OutraPessoa.aPartirDeAno('Maria', 1990)\n",
    "print(pessoa1.nome, pessoa1.idade)\n",
    "print(pessoa2.nome, pessoa2.idade)\n",
    "        "
   ]
  }
 ],
 "metadata": {
  "kernelspec": {
   "display_name": "Python 3",
   "language": "python",
   "name": "python3"
  },
  "language_info": {
   "codemirror_mode": {
    "name": "ipython",
    "version": 3
   },
   "file_extension": ".py",
   "mimetype": "text/x-python",
   "name": "python",
   "nbconvert_exporter": "python",
   "pygments_lexer": "ipython3",
   "version": "3.11.3"
  },
  "orig_nbformat": 4
 },
 "nbformat": 4,
 "nbformat_minor": 2
}
