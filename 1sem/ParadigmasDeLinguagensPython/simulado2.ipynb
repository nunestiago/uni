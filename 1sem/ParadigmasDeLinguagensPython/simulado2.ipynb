{
 "cells": [
  {
   "attachments": {},
   "cell_type": "markdown",
   "metadata": {},
   "source": [
    "Q1:\n",
    "No que se refere a programação de sistemas, avalie as assertivas  a seguir?\n",
    "\n",
    "I - A programação de sistemas, carece de linguagens que acesse, diretamente, o hardware e seus componentes.\n",
    "\n",
    "II - Exemplos de uso: software básico, como sistemas operacionais, tradutores e interpretadores de linguagens de programação.\n",
    "\n",
    "III - As principais linguagens usadas são: Pascal, Java e Ruby.\n",
    "\n",
    "IV - Antes das linguagens de alto nível, a programação de sistemas era desenvolvida em Assembly.\n",
    "\n",
    "Com base em sua análise, assinale a ÚNICA opção que apresenta APENAS as assertivas corretas\n",
    "\n",
    "R: I, II e IV\n",
    "\n",
    "Q2:\n",
    "Assinale o grupo de linguagens que são de alto nível e atendem as características do paradigma Orientado a objeto\n",
    "\n",
    "R: Java, C++, Python e Smalltalk\n",
    "\n",
    "Q3:\n",
    "Sobre a linguagem Python, afirma-se:\n",
    "\n",
    "I - É uma linguagem com suporte à orientação a objetos e à herança múltipla.\n",
    "\n",
    "II - É uma linguagem em que a indentação (indent) faz parte da sintaxe.\n",
    "\n",
    "III - Possui uma implementação de orientação a objetos em que todos os atributos são, obrigatoriamente, privados.\n",
    "\n",
    "IV - É uma linguagem que possui tipagem estática.\n",
    "\n",
    "R: \n",
    "I e II\n",
    "\n",
    "Q4: print((True + 2) ** 2)\n",
    "R: 9"
   ]
  },
  {
   "cell_type": "code",
   "execution_count": null,
   "metadata": {},
   "outputs": [],
   "source": [
    "# Q5:\n",
    "def foo(n):\n",
    "    if n > 1:\n",
    "        return n * foo(n-1)\n",
    "    return n\n",
    "print(foo(4))\n",
    "\n",
    "# R: 24"
   ]
  },
  {
   "cell_type": "code",
   "execution_count": 1,
   "metadata": {},
   "outputs": [
    {
     "name": "stdout",
     "output_type": "stream",
     "text": [
      "6.0\n"
     ]
    }
   ],
   "source": [
    "# Q6:\n",
    "import math\n",
    "print(math.sqrt(36))\n",
    "# R: 6.0"
   ]
  },
  {
   "cell_type": "code",
   "execution_count": 3,
   "metadata": {},
   "outputs": [
    {
     "name": "stdout",
     "output_type": "stream",
     "text": [
      "Av Brasil, 243\\ Floresta\n",
      "Av Miracema, 12\\ Centro, apto 3\n"
     ]
    }
   ],
   "source": [
    "class End_simples(object):\n",
    "    def __init__(self, rua, num, bairro):\n",
    "        self.rua = rua\n",
    "        self.num = num\n",
    "        self.bairro = bairro\n",
    "    def Endereco(self):\n",
    "        return self.rua + \", \" + self.num + \"\\ \" + self.bairro\n",
    "class End_com(End_simples):\n",
    "    def __init__(self, rua, num, bai, com):\n",
    "        self.com = com\n",
    "        super().__init__(rua, num, bai)\n",
    "    def Endereco(self):\n",
    "        return super(End_com, self).Endereco() + \", \" + self.com\n",
    "\n",
    "\n",
    "a = End_simples(\"Av Brasil\", \"243\", \"Floresta\")\n",
    "\n",
    "b = End_com(\"Av Miracema\", \"12\", \"Centro\", \"apto 3\")\n",
    "\n",
    "print(a.Endereco())\n",
    "\n",
    "print(b.Endereco())"
   ]
  },
  {
   "attachments": {},
   "cell_type": "markdown",
   "metadata": {},
   "source": [
    "Q8:\n",
    "Dentro do contexto de linguagens de programação e de orientação a objetos, o conceito de polimorfismo descreve meios em que classes abstratas e concretas podem se relacionar. Assinale a alternativa que conceitua corretamente polimorfismo.\n",
    "\t\t\n",
    "\n",
    "R: Polimorfismo representa um conceito em que um mesmo nome (como uma variável, por exemplo) pode denotar objetos de diferentes classes que estão relacionadas por uma superclasse comum.\n",
    "\n",
    "Q9:\n",
    "No processo de descoberta de conhecimento em base de dados, marque a alternativa correta sobre construção de atributos:\n",
    "\n",
    "R:\n",
    "Quando utilizada em uma tabela, implica na criação de colunas refletindo alguma transformação dos dados existentes em outras colunas."
   ]
  },
  {
   "cell_type": "code",
   "execution_count": 4,
   "metadata": {},
   "outputs": [
    {
     "name": "stdout",
     "output_type": "stream",
     "text": [
      "0\n",
      "0\n"
     ]
    }
   ],
   "source": [
    "from threading import Thread\n",
    "\n",
    "\n",
    "minha_lista = []\n",
    "def funcao():\n",
    "    for i in range(100000):\n",
    "        minha_lista.append(i)\n",
    "    for i in range(100000):\n",
    "        minha_lista.pop()\n",
    "\n",
    "if __name__ == '__main__':\n",
    "    tarefas = []\n",
    "    for i in range(10):\n",
    "        tarefa = Thread(target=funcao)\n",
    "        tarefas.append(tarefa)\n",
    "        tarefa.start()\n",
    "\n",
    "    print(len(minha_lista))\n",
    "    for tarefa in tarefas:\n",
    "        tarefa.join()\n",
    "    print(len(minha_lista))"
   ]
  },
  {
   "attachments": {},
   "cell_type": "markdown",
   "metadata": {},
   "source": [
    "obs: 9 de 10"
   ]
  }
 ],
 "metadata": {
  "kernelspec": {
   "display_name": "Python 3",
   "language": "python",
   "name": "python3"
  },
  "language_info": {
   "codemirror_mode": {
    "name": "ipython",
    "version": 3
   },
   "file_extension": ".py",
   "mimetype": "text/x-python",
   "name": "python",
   "nbconvert_exporter": "python",
   "pygments_lexer": "ipython3",
   "version": "3.11.3"
  },
  "orig_nbformat": 4
 },
 "nbformat": 4,
 "nbformat_minor": 2
}
