{
 "cells": [
  {
   "attachments": {},
   "cell_type": "markdown",
   "metadata": {},
   "source": [
    "Exemplos de print"
   ]
  },
  {
   "cell_type": "code",
   "execution_count": 2,
   "metadata": {},
   "outputs": [
    {
     "name": "stdout",
     "output_type": "stream",
     "text": [
      "Hello world!\n",
      "12345\n",
      "valor 12345\n",
      "valoer = 1234\n",
      "valor = 1234\n"
     ]
    }
   ],
   "source": [
    "print(\"Hello world!\")\n",
    "print(12345)\n",
    "print(\"valor\",12345)\n",
    "print(f'valoer = {1234}')\n",
    "print(\"valor = {}\".format(1234))"
   ]
  },
  {
   "attachments": {},
   "cell_type": "markdown",
   "metadata": {},
   "source": [
    "Variáveis"
   ]
  },
  {
   "cell_type": "code",
   "execution_count": 3,
   "metadata": {},
   "outputs": [
    {
     "name": "stdout",
     "output_type": "stream",
     "text": [
      "string\n"
     ]
    }
   ],
   "source": [
    "nome = \"string\"\n",
    "print(nome)"
   ]
  },
  {
   "cell_type": "code",
   "execution_count": 5,
   "metadata": {},
   "outputs": [
    {
     "name": "stdout",
     "output_type": "stream",
     "text": [
      "1 2\n",
      "2 1\n",
      "1 2\n"
     ]
    }
   ],
   "source": [
    "# Atribuicao multipla\n",
    "a, b = 1, 2\n",
    "print(a, b)\n",
    "# Troca 1\n",
    "a, b = b, a\n",
    "print(a, b)\n",
    "#Troca 2\n",
    "temp = a\n",
    "a = b\n",
    "b = temp\n",
    "print(a, b)\n",
    "\n"
   ]
  },
  {
   "cell_type": "code",
   "execution_count": 8,
   "metadata": {},
   "outputs": [
    {
     "name": "stdout",
     "output_type": "stream",
     "text": [
      "<class 'str'>\n",
      "<class 'int'>\n",
      "<class 'float'>\n",
      "<class 'bool'>\n"
     ]
    }
   ],
   "source": [
    "strs = \"strs\"\n",
    "print(type(strs))\n",
    "strs = 10\n",
    "print(type(strs))\n",
    "strs = 10.1\n",
    "print(type(strs))\n",
    "strs = True\n",
    "print(type(strs))"
   ]
  },
  {
   "cell_type": "code",
   "execution_count": 9,
   "metadata": {},
   "outputs": [
    {
     "name": "stdout",
     "output_type": "stream",
     "text": [
      "Dentro da função, a variável vale: 2\n",
      "Fora da função, a variável a vale: 3\n"
     ]
    }
   ],
   "source": [
    "def multiplicador(numero):\n",
    "        a = 2 # esta variável tem escopo local\n",
    "        print(f\"Dentro da função, a variável vale: {a}\")\n",
    "        return a * numero\n",
    "\n",
    "a = 3 # esta variável tem escopo global\n",
    "b = multiplicador(5)\n",
    "print(f\"Fora da função, a variável a vale: {a}\")"
   ]
  },
  {
   "cell_type": "code",
   "execution_count": null,
   "metadata": {},
   "outputs": [],
   "source": [
    "def multiplicador(numero):\n",
    "        global a # todas as referências à variável a são para a global\n",
    "        a = 2      # a global será alterado\n",
    "        print(f\"Dentro da função,  variável  vale: {a}\")\n",
    "        return a * numero\n",
    "\n",
    "\n",
    "a = 3  # esta variável tem escopo global\n",
    "b = multiplicador(5)\n",
    "print(f\"A variável b vale: {b}\")\n",
    "print(f\"Fora da função, a variável a vale: {a}\")"
   ]
  },
  {
   "cell_type": "code",
   "execution_count": 11,
   "metadata": {},
   "outputs": [
    {
     "name": "stdout",
     "output_type": "stream",
     "text": [
      "1\n",
      "2\n",
      "[1, 2, 3]\n"
     ]
    }
   ],
   "source": [
    "# Array\n",
    "arr = [1,2,3]\n",
    "print(arr[0])\n",
    "print(arr[1])\n",
    "print(f\"{arr}\")"
   ]
  },
  {
   "cell_type": "code",
   "execution_count": 13,
   "metadata": {},
   "outputs": [
    {
     "name": "stdout",
     "output_type": "stream",
     "text": [
      "['test']\n",
      "3\n"
     ]
    }
   ],
   "source": [
    "# Dict \"objeto\"\n",
    "dict = {111: ['test'], 222: ['2'], 333: 3}\n",
    "print(dict[111])\n",
    "print(dict[333])"
   ]
  },
  {
   "cell_type": "code",
   "execution_count": 15,
   "metadata": {},
   "outputs": [
    {
     "name": "stdout",
     "output_type": "stream",
     "text": [
      "(2+5j)\n",
      "<class 'complex'>\n",
      "(2-5j)\n"
     ]
    }
   ],
   "source": [
    "# Complex\n",
    "r = complex(2, 5)\n",
    "print(r)\n",
    "print(type(r))"
   ]
  },
  {
   "cell_type": "code",
   "execution_count": 16,
   "metadata": {},
   "outputs": [
    {
     "data": {
      "text/plain": [
       "['Ensino', 'a', 'Distância']"
      ]
     },
     "execution_count": 16,
     "metadata": {},
     "output_type": "execute_result"
    }
   ],
   "source": [
    "curso = 'Ensino a Distância'\n",
    "curso\n",
    "#'Ensino a Distância'\n",
    "curso.upper()\n",
    "#'ENSINO A DISTÂNCIA'\n",
    "curso.lower()\n",
    "#'ensino a distância'\n",
    "curso.split()\n",
    "#['Ensino', 'a', 'Distância']"
   ]
  },
  {
   "cell_type": "code",
   "execution_count": 22,
   "metadata": {},
   "outputs": [
    {
     "name": "stdout",
     "output_type": "stream",
     "text": [
      "-10.5\n",
      "2\n",
      "4\n"
     ]
    }
   ],
   "source": [
    "print(f\"{2 + 3 - 4 ** 2 + 5 / 2 - 5 // 2}\")\n",
    "a = ['U'] + ['RN']\n",
    "print(a)\n",
    "b = ['4'] * 4\n",
    "print(b)"
   ]
  }
 ],
 "metadata": {
  "kernelspec": {
   "display_name": "Python 3",
   "language": "python",
   "name": "python3"
  },
  "language_info": {
   "codemirror_mode": {
    "name": "ipython",
    "version": 3
   },
   "file_extension": ".py",
   "mimetype": "text/x-python",
   "name": "python",
   "nbconvert_exporter": "python",
   "pygments_lexer": "ipython3",
   "version": "3.11.3"
  },
  "orig_nbformat": 4
 },
 "nbformat": 4,
 "nbformat_minor": 2
}
