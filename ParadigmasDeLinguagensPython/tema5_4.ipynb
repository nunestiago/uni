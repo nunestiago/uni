{
 "cells": [
  {
   "cell_type": "code",
   "execution_count": null,
   "metadata": {},
   "outputs": [],
   "source": [
    "import matplotlib.pyplot as plt\n",
    "from sklearn.linear_model import LinearRegression\n",
    "import pandas\n",
    "\n",
    "############# Pré-processamento ###############\n",
    "# Coleta e Integração\n",
    "arquivo = pandas.read_csv('dados_dengue.csv')\n",
    "\n",
    "anos = arquivo[['ano']]\n",
    "casos = arquivo[['casos']]\n",
    " \n",
    "############## Mineração #################\n",
    "regr = LinearRegression()\n",
    "regr.fit(X=anos, y=casos)\n",
    " \n",
    "ano_futuro = [[2018]]\n",
    "casos_2018 = regr.predict(ano_futuro)\n",
    " \n",
    "print('Casos previstos para 2018 ->', int(casos_2018))\n",
    " \n",
    "############ Pós-processamento ################\n",
    "plt.scatter(anos, casos, color='black')\n",
    "plt.scatter(ano_futuro, casos_2018, color='red')\n",
    "plt.plot(anos, regr.predict(anos), color='blue')\n",
    " \n",
    "plt.xlabel('Anos')\n",
    "plt.ylabel('Casos de dengue')\n",
    "plt.xticks([2018])\n",
    "plt.yticks([int(casos_2018)])\n",
    " \n",
    "plt.show()"
   ]
  },
  {
   "cell_type": "code",
   "execution_count": null,
   "metadata": {},
   "outputs": [],
   "source": [
    "from sklearn.datasets import load_iris, fetch_kddcup99\n",
    "from sklearn.metrics import accuracy_score\n",
    "from sklearn.model_selection import train_test_split\n",
    "from sklearn.tree import DecisionTreeClassifier, export_text, plot_tree\n",
    "from sklearn.svm import SVC\n",
    " \n",
    "################## Pré-processamento ###################\n",
    "# Coleta e Integração\n",
    "iris = load_iris()\n",
    " \n",
    "caracteristicas = iris.data\n",
    "rotulos = iris.target\n",
    " \n",
    "print(\"Caracteristicas:\\n\", caracteristicas[:2])\n",
    "print(\"Rótulos:\\n\", rotulos[:2])\n",
    "print('########################################################')\n",
    " \n",
    "# Partição dos dados\n",
    "carac_treino, carac_teste, rot_treino, rot_teste = train_test_split(caracteristicas, rotulos)\n",
    " \n",
    "################### Mineração #####################\n",
    " \n",
    "############---------- Arvore de Decisão -----------############\n",
    "arvore = DecisionTreeClassifier(max_depth=2)\n",
    "arvore.fit(X=carac_treino, y=rot_treino)\n",
    " \n",
    "rot_preditos = arvore.predict(carac_teste)\n",
    "acuracia_arvore = accuracy_score(rot_teste, rot_preditos)\n",
    "############-------- Máquina de Vetor Suporte ------############\n",
    "clf = SVC()\n",
    "clf.fit(X=carac_treino, y=rot_treino)\n",
    " \n",
    "rot_preditos_svm = clf.predict(carac_teste)\n",
    "acuracia_svm = accuracy_score(rot_teste, rot_preditos_svm)\n",
    " \n",
    "################ Pós-processamento ####################\n",
    "print(\"Acurácia Árvore de Decisão:\", round(acuracia_arvore, 5))\n",
    "print(\"Acurácia SVM:\", round(acuracia_svm, 5))\n",
    "print('########################################################')\n",
    " \n",
    "r = export_text(arvore, feature_names=iris['feature_names'])\n",
    "print(\"Estrutura da árvore\")\n",
    "print(r)"
   ]
  },
  {
   "cell_type": "code",
   "execution_count": 4,
   "metadata": {},
   "outputs": [
    {
     "name": "stdout",
     "output_type": "stream",
     "text": [
      "data test:\n",
      "[ 5 20 14 32 22 38]\n",
      "data predict:\n",
      "[ 8.33333333 13.73333333 19.13333333 24.53333333 29.93333333 35.33333333]\n"
     ]
    },
    {
     "data": {
      "image/png": "[encoded data removed]",
      "text/plain": [
       "<Figure size 640x480 with 1 Axes>"
      ]
     },
     "metadata": {},
     "output_type": "display_data"
    }
   ],
   "source": [
    "import numpy as np\n",
    "from sklearn.linear_model import LinearRegression\n",
    "import matplotlib.pyplot as plt\n",
    "\n",
    "x = np.array([5,10,15,20,25,30]).reshape((-1, 1))\n",
    "y = np.array([5,20,14,32,22,38])\n",
    "\n",
    "model = LinearRegression().fit(x, y)\n",
    "\n",
    "y_pred = model.predict(x)\n",
    "print('data test:', y, sep='\\n')\n",
    "print('data predict:', y_pred, sep='\\n')\n",
    "\n",
    "plt.scatter(x, y, color='black')\n",
    "plt.plot(x, y_pred, color='blue', linewidth=3)\n",
    "plt.legend(['predicted line', 'observed data'])\n",
    "plt.show()"
   ]
  }
 ],
 "metadata": {
  "kernelspec": {
   "display_name": "Python 3",
   "language": "python",
   "name": "python3"
  },
  "language_info": {
   "codemirror_mode": {
    "name": "ipython",
    "version": 3
   },
   "file_extension": ".py",
   "mimetype": "text/x-python",
   "name": "python",
   "nbconvert_exporter": "python",
   "pygments_lexer": "ipython3",
   "version": "3.11.3"
  },
  "orig_nbformat": 4
 },
 "nbformat": 4,
 "nbformat_minor": 2
}
