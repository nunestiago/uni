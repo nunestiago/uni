{
 "cells": [
  {
   "cell_type": "code",
   "execution_count": null,
   "metadata": {},
   "outputs": [],
   "source": [
    "valor = 20\n",
    "\n",
    "def multiplica(fator):\n",
    "    global valor\n",
    "    valor = valor * fator\n",
    "    print(\"Resultado\", valor)\n",
    "\n",
    "def main():\n",
    "    numero = int(input())\n",
    "    multiplica(numero)\n",
    "    multiplica(numero)\n",
    " \n",
    "if __name__ == \"__main__\":\n",
    "    main()"
   ]
  },
  {
   "cell_type": "code",
   "execution_count": null,
   "metadata": {},
   "outputs": [],
   "source": [
    "valor = 20\n",
    "\n",
    "def multiplica(valor, fator):\n",
    "    valor = valor * fator\n",
    "    return valor\n",
    "\n",
    "def main():\n",
    "    numero = int(input())\n",
    "    print(\"Resultado\", multiplica(valor, numero))\n",
    "    print(\"Resultado\", multiplica(valor, numero))\n",
    "\n",
    "if __name__ == \"__main__\":\n",
    "    main()"
   ]
  },
  {
   "cell_type": "code",
   "execution_count": null,
   "metadata": {},
   "outputs": [],
   "source": [
    "# script funcao5.py\n",
    "def multiplicar_por(multiplicador):\n",
    "    def multi(multiplicando):\n",
    "        return multiplicando * multiplicador\n",
    "    return multi\n",
    "\n",
    "def main():\n",
    "    multiplicar_por_10 = multiplicar_por(10)\n",
    "    print(multiplicar_por_10(1))\n",
    "    print(multiplicar_por_10(2))\n",
    " \n",
    "    multiplicar_por_5 = multiplicar_por(5)\n",
    "    print(multiplicar_por_5(1))\n",
    "    print(multiplicar_por_5(2))\n",
    "\n",
    "if __name__ == \"__main__\":\n",
    "    main()\n"
   ]
  },
  {
   "cell_type": "code",
   "execution_count": null,
   "metadata": {},
   "outputs": [],
   "source": [
    "def multiplicar(a, b):\n",
    "    return a*b\n",
    "\n",
    "multLambda = lambda a, b: a*b\n",
    "\n",
    "print(multiplicar(2, 3))\n",
    "print(multLambda(2, 3))"
   ]
  },
  {
   "cell_type": "code",
   "execution_count": null,
   "metadata": {},
   "outputs": [],
   "source": [
    "# script anonima.py (versão alterada do script funcao5.py)\n",
    "def multiplicar_por(multiplicador):\n",
    "    def multi(multiplicando):\n",
    "        return multiplicando * multiplicador\n",
    "    return multi\n",
    "# ou return lambda multiplicando: multiplicando * multiplicadorhh\n",
    "\n",
    "def main():\n",
    "    multiplicar_por_10 = multiplicar_por(10)\n",
    "    print(multiplicar_por_10(1))\n",
    "    print(multiplicar_por_10(2))\n",
    " \n",
    "    multiplicar_por_5 = multiplicar_por(5)\n",
    "    print(multiplicar_por_5(1))\n",
    "    print(multiplicar_por_5(2))\n",
    "\n",
    "if __name__ == \"__main__\":\n",
    "    main()"
   ]
  },
  {
   "cell_type": "code",
   "execution_count": null,
   "metadata": {},
   "outputs": [],
   "source": [
    "lista = [0,1,1,2,3,5,8,13,21,34,55,89]\n",
    "print(list(filter(lambda x: x % 2 == 0, lista)))\n",
    "\n",
    "lista_numeros = [9.9283745, 7.982374, 3.345798, 1.234567, 0.123456]\n",
    "lista_precisao = [2,2,3,3,1]\n",
    "for numero in range(len(lista_numeros)):\n",
    "    print(lista_numeros[numero], \"com precisão\", lista_precisao[numero], \"é\", round(lista_numeros[numero], lista_precisao[numero]))\n",
    "\n",
    "# mesma coisa com map\n",
    "arredondamento = lambda x,y: round(x,y)\n",
    "resultado = list(map(arredondamento, lista_numeros, lista_precisao))\n",
    "print(resultado)"
   ]
  },
  {
   "attachments": {},
   "cell_type": "markdown",
   "metadata": {},
   "source": [
    "Multithreading"
   ]
  },
  {
   "cell_type": "code",
   "execution_count": null,
   "metadata": {},
   "outputs": [],
   "source": [
    "# script principal.py\n",
    "from threading import Thread\n",
    "from multiprocessing import Process\n",
    "\n",
    "def funcao_a(nome):\n",
    "    print(nome)\n",
    "\n",
    "def main():\n",
    "    t = Thread(target=funcao_a, args=(\"Minha Thread\",))\n",
    "    t.start()\n",
    "\n",
    "    p = Process(target=funcao_a, args=(\"Meu Processo\",))\n",
    "    p.start()\n",
    "\n",
    "if __name__ == '__main__':\n",
    "    main()\n"
   ]
  },
  {
   "cell_type": "code",
   "execution_count": null,
   "metadata": {},
   "outputs": [],
   "source": [
    "from threading import Thread, Lock\n",
    "from multiprocessing import Process\n",
    "import time\n",
    "\n",
    "minha_lista = []\n",
    " \n",
    "def funcao_a(indice):\n",
    "    for i in range(10):\n",
    "        minha_lista.append(1)\n",
    "        print(\"Termino thread \", indice)\n",
    "\n",
    "def main():\n",
    "    tarefas = []\n",
    "    for indice in range(10):\n",
    "        tarefa = Thread(target=funcao_a, args=(indice,))\n",
    "        tarefas.append(tarefa)\n",
    "        tarefa.start()\n",
    "\n",
    "    print(\"Antes de aguardar o termino!\", len(minha_lista))\n",
    "\n",
    "    for tarefa in tarefas:\n",
    "        tarefa.join()\n",
    "\n",
    "    print(\"Após aguardar o termino!\", len(minha_lista))\n",
    "\n",
    "if __name__ == \"__main__\":\n",
    "    main()"
   ]
  },
  {
   "cell_type": "code",
   "execution_count": 23,
   "metadata": {},
   "outputs": [
    {
     "name": "stdout",
     "output_type": "stream",
     "text": [
      "Iniciando thread Minha Thread\n",
      "Finalizando script? não\n",
      "Finalizando thread\n",
      "Finalizando script\n"
     ]
    }
   ],
   "source": [
    "from concurrent.futures import thread\n",
    "\n",
    "\n",
    "def threading(tempo_espera, mensagem):\n",
    "    print(f\"Iniciando thread {mensagem}\")\n",
    "    time.sleep(tempo_espera)\n",
    "    print(\"Finalizando thread\")\n",
    "\n",
    "thread = Thread(target=threading, args=(2, \"Minha Thread\"))\n",
    "thread.start()\n",
    "print(\"Finalizando script? não\")\n",
    "thread.join()\n",
    "print(\"Finalizando script\")"
   ]
  },
  {
   "cell_type": "code",
   "execution_count": 27,
   "metadata": {},
   "outputs": [
    {
     "name": "stdout",
     "output_type": "stream",
     "text": [
      "0\n"
     ]
    }
   ],
   "source": [
    "# script processos.py\n",
    "from threading import Thread\n",
    "from multiprocessing import Process\n",
    "\n",
    "minha_lista = []\n",
    "\n",
    "def adiciona():\n",
    "    for i in range(100):\n",
    "        minha_lista.append(1)\n",
    "\n",
    "def main():\n",
    "    tarefas = []\n",
    " \n",
    "    for indice in range(10):\n",
    "        t = Thread(target=adiciona)\n",
    "        tarefas.append(t)\n",
    "        t.start()\n",
    "\n",
    "    for indice in range(10):\n",
    "        p = Process(target=adiciona)\n",
    "        tarefas.append(p)\n",
    "        p.start()\n",
    "\n",
    "    for tarefa in tarefas:\n",
    "        tarefa.join()\n",
    "\n",
    "    print(len(minha_lista))\n",
    "\n",
    "if __name__ == '__main__':\n",
    "    main()"
   ]
  }
 ],
 "metadata": {
  "kernelspec": {
   "display_name": "Python 3",
   "language": "python",
   "name": "python3"
  },
  "language_info": {
   "codemirror_mode": {
    "name": "ipython",
    "version": 3
   },
   "file_extension": ".py",
   "mimetype": "text/x-python",
   "name": "python",
   "nbconvert_exporter": "python",
   "pygments_lexer": "ipython3",
   "version": "3.11.3"
  },
  "orig_nbformat": 4
 },
 "nbformat": 4,
 "nbformat_minor": 2
}
