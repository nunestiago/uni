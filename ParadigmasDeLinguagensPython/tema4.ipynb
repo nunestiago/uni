{
 "cells": [
  {
   "cell_type": "code",
   "execution_count": null,
   "metadata": {},
   "outputs": [],
   "source": [
    "class Pessoa:\n",
    "    def __init__(self, nome, ender):\n",
    "        self.set_nome(nome)\n",
    "        self.set_ender(ender)\n",
    "    \n",
    "    def set_nome(self, nome):\n",
    "        self.nome = nome\n",
    "    \n",
    "    def set_ender(self, ender):\n",
    "        self.ender = ender\n",
    "    \n",
    "    def get_nome(self):\n",
    "        return self.nome\n",
    "    \n",
    "    def get_ender(self):\n",
    "        return self.ender"
   ]
  }
 ],
 "metadata": {
  "language_info": {
   "name": "python"
  },
  "orig_nbformat": 4
 },
 "nbformat": 4,
 "nbformat_minor": 2
}
