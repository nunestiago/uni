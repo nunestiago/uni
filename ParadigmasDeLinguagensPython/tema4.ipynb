{
 "cells": [
  {
   "cell_type": "code",
   "execution_count": 2,
   "metadata": {},
   "outputs": [
    {
     "name": "stdout",
     "output_type": "stream",
     "text": [
      "Tiago, Cardeal\n",
      "Tiago  tem casa em  Cardeal\n"
     ]
    }
   ],
   "source": [
    "class Pessoa:\n",
    "    def __init__(self, nome, ender):\n",
    "        self.set_nome(nome)\n",
    "        self.set_ender(ender)\n",
    "    \n",
    "    def set_nome(self, nome):\n",
    "        self.nome = nome\n",
    "    \n",
    "    def set_ender(self, ender):\n",
    "        self.ender = ender\n",
    "    \n",
    "    def get_nome(self):\n",
    "        return self.nome\n",
    "    \n",
    "    def get_ender(self):\n",
    "        return self.ender\n",
    "    \n",
    "    def imprimir(self):\n",
    "        print(self.nome, \" tem casa em \", self.ender)\n",
    "\n",
    "class Profissional(Pessoa):\n",
    "    def __init__(self, nome, ender, profissao):\n",
    "        super().__init__(nome, ender)\n",
    "        self.profissao = profissao\n",
    "    \n",
    "pessoinha = Pessoa(\"Tiago\", \"Cardeal\")\n",
    "print(f\"{pessoinha.nome}, {pessoinha.ender}\")\n",
    "pessoinha.imprimir()\n",
    "\n",
    "prof = Profissional(\"nome\", \"ender\", \"profissao\")"
   ]
  }
 ],
 "metadata": {
  "kernelspec": {
   "display_name": "Python 3",
   "language": "python",
   "name": "python3"
  },
  "language_info": {
   "codemirror_mode": {
    "name": "ipython",
    "version": 3
   },
   "file_extension": ".py",
   "mimetype": "text/x-python",
   "name": "python",
   "nbconvert_exporter": "python",
   "pygments_lexer": "ipython3",
   "version": "3.10.10"
  },
  "orig_nbformat": 4
 },
 "nbformat": 4,
 "nbformat_minor": 2
}
