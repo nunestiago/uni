{
 "cells": [
  {
   "attachments": {},
   "cell_type": "markdown",
   "metadata": {},
   "source": [
    "Q1:Como se chama o processo de conversão de linguagens onde não é gerado código executável e o programa roda a medida que vai sendo convertido.\n",
    "R: Interpretação\n",
    "\n",
    "Q2: Assinale o grupo de linguagens que são de alto nível e atendem as características do paradigma Orientado a objeto\n",
    "R: Java, C++, Python e Smalltalk"
   ]
  },
  {
   "cell_type": "code",
   "execution_count": null,
   "metadata": {},
   "outputs": [],
   "source": [
    "# Q3\n",
    "lista = [\"cachorro\", \"hamster\", [\"pato\", \"galinha\", \"porco\"], \"gato\"]\n",
    "print(lista[3][2])\n",
    "# R: t\n",
    "\n",
    "# Q4\n",
    "print((True + 2)**2)\n",
    "# R: 9"
   ]
  },
  {
   "cell_type": "code",
   "execution_count": null,
   "metadata": {},
   "outputs": [],
   "source": [
    "# Q5:\n",
    "a = 0\n",
    "for i in range(30):\n",
    "    if a % 2 == 0:\n",
    "        a += 1\n",
    "        continue\n",
    "    else:\n",
    "        if a % 5 == 0:\n",
    "            break\n",
    "        else:\n",
    "            a += 3\n",
    "print(a)\n",
    "# R: 5"
   ]
  },
  {
   "cell_type": "code",
   "execution_count": null,
   "metadata": {},
   "outputs": [],
   "source": [
    "# Q6:\n",
    "def foo(n):\n",
    "    if n > 1:\n",
    "        return n * foo(n-1)\n",
    "    return n\n",
    "print(foo(4))\n",
    "\n",
    "# R: 24"
   ]
  },
  {
   "attachments": {},
   "cell_type": "markdown",
   "metadata": {},
   "source": [
    "Q7:\n",
    "Compreender os princípios do desenvolvimento de software orientado a objetos é fundamental para o profissional de TI moderno. Acerca da linguagem de programação Python, é correto afirmar que:\n",
    "\n",
    "I. Excetuando-se as classes, tudo é um objeto (tipos, valores, funções, métodos e instâncias), e todos possuem atributos e métodos associados.\n",
    "\n",
    "II. Um ponto fundamental da sintaxe para métodos é que o primeiro argumento é especial, e convenciona- se utilizar o nome self para ele.\n",
    "    \n",
    "III. O método construtor (p.ex.: __init__()) é um método opcional invocado quando a classe é instanciada.\n",
    "  \n",
    "IV. Instâncias são objetos criados a partir de uma classe definida pelo programador; o que Python chama de instância é frequentemente denominado objeto em outras linguagens.\n",
    "\n",
    "R:\n",
    "II, III e IV, apenas."
   ]
  },
  {
   "cell_type": "code",
   "execution_count": null,
   "metadata": {},
   "outputs": [],
   "source": [
    "class End_simples(object):\n",
    "    def __init__(self, rua, num, bairro):\n",
    "        self.rua = rua\n",
    "        self.num = num\n",
    "        self.bairro = bairro\n",
    "    def Endereco(self):\n",
    "        return self.rua + \", \" + self.num + \"\\ \" + self.bairro\n",
    "class End_com(End_simples):\n",
    "    def __init__(self, rua, num, bai, com):\n",
    "        self.com = com\n",
    "        super().__init__(rua, num, bai)\n",
    "    def Endereco(self):\n",
    "        return super().Endereco() + \", \" + self.com\n",
    "\n",
    "\n",
    "a = End_simples(\"Av Brasil\", \"243\", \"Floresta\")\n",
    "\n",
    "b = End_com(\"Av Miracema\", \"12\", \"Centro\", \"apto 3\")\n",
    "\n",
    "print(a.Endereco())\n",
    "\n",
    "print(b.Endereco())"
   ]
  },
  {
   "attachments": {},
   "cell_type": "markdown",
   "metadata": {},
   "source": [
    "Q10:\n",
    "No processo de descoberta de conhecimento em base de dados, marque a alternativa correta sobre construção de atributos:\n",
    "\t\t\n",
    "\n",
    "Significa transformar a natureza dos valores de um atributo utilizando transformações numérico-categórica ou categórico-numérica.\n",
    "\t\t\n",
    "\n",
    "É uma atividade bastante encontrada na construção de data warehouses.\n",
    "\t\t\n",
    "\n",
    "Consiste na complementação de dados ausentes, detecção de ruídos e eliminação de dados inconsistentes.\n",
    "\t\t\n",
    "\n",
    "Quando utilizada em uma tabela, implica na criação de colunas refletindo alguma transformação dos dados existentes em outras colunas.\n",
    "\t\t\n",
    "\n",
    "Consiste em separar os dados conjuntos de treinamento (abstração do modelo de conhecimento) e de testes (avaliação do modelo gerado).\n",
    "R:\n",
    "Quando utilizada em uma tabela, implica na criação de colunas refletindo alguma transformação dos dados existentes em outras colunas."
   ]
  },
  {
   "attachments": {},
   "cell_type": "markdown",
   "metadata": {},
   "source": [
    "# obs: acertei 9 de 10"
   ]
  }
 ],
 "metadata": {
  "kernelspec": {
   "display_name": "Python 3",
   "language": "python",
   "name": "python3"
  },
  "language_info": {
   "codemirror_mode": {
    "name": "ipython",
    "version": 3
   },
   "file_extension": ".py",
   "mimetype": "text/x-python",
   "name": "python",
   "nbconvert_exporter": "python",
   "pygments_lexer": "ipython3",
   "version": "3.11.3"
  },
  "orig_nbformat": 4
 },
 "nbformat": 4,
 "nbformat_minor": 2
}
