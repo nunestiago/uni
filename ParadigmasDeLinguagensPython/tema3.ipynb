{
 "cells": [
  {
   "cell_type": "code",
   "execution_count": null,
   "metadata": {},
   "outputs": [],
   "source": [
    "a=120\n",
    "b=20\n",
    "if(a>b):\n",
    "    print(a)\n",
    "else:\n",
    "    print(b)\n",
    "\n",
    "# Menor\n",
    "a=10\n",
    "b=20\n",
    "maior=a\n",
    "if(b>maior):\n",
    "    maior=b\n",
    "print(maior)"
   ]
  },
  {
   "cell_type": "code",
   "execution_count": null,
   "metadata": {},
   "outputs": [],
   "source": [
    "# Verificar se é par\n",
    "import random\n",
    "\n",
    "\n",
    "c=random.randint(0,100)\n",
    "if(c%2==0):\n",
    "    print(f\"Par, {c}\")\n",
    "else:\n",
    "    print(f\"Ímpar, {c}\")\n"
   ]
  },
  {
   "cell_type": "code",
   "execution_count": null,
   "metadata": {},
   "outputs": [],
   "source": [
    "# Setar desconto\n",
    "preco = 100\n",
    "DESCONTO10 = 0.1\n",
    "DESCONTO20 = 0.2\n",
    "quantidade = eval(input(\"Quantidade: \"))\n",
    "if(quantidade<10):\n",
    "    print(f\"Valor: {preco*quantidade}\")\n",
    "elif(quantidade<20):\n",
    "    print(f\"Valor: {preco*quantidade*(1-DESCONTO10)}\")\n",
    "else:\n",
    "    print(f\"Valor: {preco*quantidade*(1-DESCONTO20)}\")\n"
   ]
  },
  {
   "cell_type": "code",
   "execution_count": null,
   "metadata": {},
   "outputs": [],
   "source": [
    "arr=[10,2,5,7,6,3]\n",
    "total=0\n",
    "for i in arr:\n",
    "    if(i%2==0):\n",
    "        total+=i\n",
    "print(total)"
   ]
  },
  {
   "cell_type": "code",
   "execution_count": null,
   "metadata": {},
   "outputs": [],
   "source": [
    "for item in range(2, 9, 2):\n",
    "    print(item)\n",
    "\n",
    "nome = input(\"Entre com seu nome: \\n\")\n",
    "for letra in nome:\n",
    "    print(letra)"
   ]
  },
  {
   "cell_type": "code",
   "execution_count": null,
   "metadata": {},
   "outputs": [],
   "source": [
    "def encontrar_minimo(arr):\n",
    "    minimo = arr[0]\n",
    "    for item in arr:\n",
    "        if(item<minimo):\n",
    "            minimo=item\n",
    "    return minimo\n",
    "print(encontrar_minimo([10,2,5,7,6,3]))"
   ]
  },
  {
   "cell_type": "code",
   "execution_count": null,
   "metadata": {},
   "outputs": [],
   "source": [
    "def calculo_fatorial(arr):\n",
    "    fatorial=1\n",
    "    for item in range(1, arr+1):\n",
    "        fatorial*=item\n",
    "    return fatorial\n"
   ]
  },
  {
   "cell_type": "code",
   "execution_count": null,
   "metadata": {},
   "outputs": [],
   "source": [
    "def eh_primo(n):\n",
    "    for i in range(2, n):\n",
    "        if(n%i==0):\n",
    "            return False\n",
    "    return True"
   ]
  },
  {
   "cell_type": "code",
   "execution_count": null,
   "metadata": {},
   "outputs": [],
   "source": [
    "import timeit\n",
    "\n",
    "def fatorial(n):\n",
    "    if n == 0 or n == 1:\n",
    "         return 1\n",
    "    else:\n",
    "         return n*fatorial(n-1)\n",
    "\n",
    "# Use timeit to run the function 1000 times and measure the time\n",
    "timeit_result = timeit.timeit(lambda: fatorial(1000), number=10000)\n",
    "\n",
    "# Print the result and elapsed time\n",
    "print(\"Result: \", fatorial(10))\n",
    "print(\"Elapsed time: \", timeit_result, \" seconds\")\n",
    "\n",
    "def fatorialn(n):\n",
    "    fat = 1\n",
    "    if n == 0 or n == 1:\n",
    "        return fat\n",
    "    else:\n",
    "        for x in range(2, n + 1):\n",
    "               fat = fat*x\n",
    "        return fat\n",
    "\n",
    "# Use timeit to run the function 1000 times and measure the time\n",
    "timeit_result2 = timeit.timeit(lambda: fatorialn(1000), number=10000)\n",
    "\n",
    "# Print the result and elapsed time\n",
    "print(\"Result: \", fatorialn(10))\n",
    "print(\"Elapsed time: \", timeit_result2, \" seconds\")"
   ]
  },
  {
   "cell_type": "code",
   "execution_count": 1,
   "metadata": {},
   "outputs": [
    {
     "data": {
      "image/png": "[encoded data removed]",
      "text/plain": [
       "<Figure size 640x480 with 1 Axes>"
      ]
     },
     "metadata": {},
     "output_type": "display_data"
    }
   ],
   "source": [
    "import numpy as np\n",
    "import matplotlib.pyplot as plt\n",
    "\n",
    "x = np.array([\"a\", \"b\", \"c\"])\n",
    "y = np.array([1, 2, 3])\n",
    "\n",
    "plt.plot(x, y)\n",
    "plt.show()"
   ]
  },
  {
   "cell_type": "code",
   "execution_count": null,
   "metadata": {},
   "outputs": [],
   "source": [
    "import time\n",
    "\n",
    "\n",
    "x = time.time()\n",
    "print(x)\n",
    "print(f'Local time: {time.localtime(x)}')"
   ]
  },
  {
   "cell_type": "code",
   "execution_count": null,
   "metadata": {},
   "outputs": [],
   "source": [
    "from tkinter import *\n",
    "\n",
    "janelaPrincipal = Tk()\n",
    "texto = Label(master = janelaPrincipal, text = \"Minha janela exibida\")\n",
    "texto.place(x = 50, y = 100)\n",
    "janelaPrincipal.mainloop()"
   ]
  },
  {
   "cell_type": "code",
   "execution_count": null,
   "metadata": {},
   "outputs": [],
   "source": [
    "try:\n",
    "    x = int(input(\"Entre com um número: \"))\n",
    "    print(x)\n",
    "except ValueError:\n",
    "    print(\"Valor inválido\")"
   ]
  },
  {
   "cell_type": "code",
   "execution_count": null,
   "metadata": {},
   "outputs": [],
   "source": [
    "try:\n",
    "    num = eval(input(\"Entre com um número inteiro: \"))\n",
    "    print(num)\n",
    "except ValueError:\n",
    "    print(\"Mensagem 1\")\n",
    "except IndexError:\n",
    "    print(\"Mensagem 2\")\n",
    "except:\n",
    "    print(\"Mensagem 3\")"
   ]
  },
  {
   "cell_type": "code",
   "execution_count": 2,
   "metadata": {},
   "outputs": [
    {
     "name": "stdout",
     "output_type": "stream",
     "text": [
      "5\n"
     ]
    }
   ],
   "source": [
    "a = 0\n",
    "\n",
    "for i in range(30):\n",
    "    if a%2 == 0:\n",
    "        a += 1\n",
    "        continue\n",
    "    else:\n",
    "        if a%5 == 0:\n",
    "            break\n",
    "        else:\n",
    "            a += 3\n",
    "print(a)\n",
    "\n"
   ]
  }
 ],
 "metadata": {
  "kernelspec": {
   "display_name": "Python 3",
   "language": "python",
   "name": "python3"
  },
  "language_info": {
   "codemirror_mode": {
    "name": "ipython",
    "version": 3
   },
   "file_extension": ".py",
   "mimetype": "text/x-python",
   "name": "python",
   "nbconvert_exporter": "python",
   "pygments_lexer": "ipython3",
   "version": "3.11.3"
  },
  "orig_nbformat": 4
 },
 "nbformat": 4,
 "nbformat_minor": 2
}
