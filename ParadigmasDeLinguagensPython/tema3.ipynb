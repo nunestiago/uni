{
 "cells": [
  {
   "cell_type": "code",
   "execution_count": 3,
   "metadata": {},
   "outputs": [
    {
     "name": "stdout",
     "output_type": "stream",
     "text": [
      "120\n"
     ]
    }
   ],
   "source": [
    "a=120\n",
    "b=20\n",
    "if(a>b):\n",
    "    print(a)\n",
    "else:\n",
    "    print(b)\n",
    "\n",
    "# Menor\n",
    "a=10\n",
    "b=20\n",
    "maior=a\n",
    "if(b>maior):\n",
    "    maior=b\n",
    "print(maior)"
   ]
  },
  {
   "cell_type": "code",
   "execution_count": 9,
   "metadata": {},
   "outputs": [
    {
     "name": "stdout",
     "output_type": "stream",
     "text": [
      "Par, 72\n"
     ]
    }
   ],
   "source": [
    "# Verificar se é par\n",
    "import random\n",
    "\n",
    "\n",
    "c=random.randint(0,100)\n",
    "if(c%2==0):\n",
    "    print(f\"Par, {c}\")\n",
    "else:\n",
    "    print(f\"Ímpar, {c}\")\n"
   ]
  },
  {
   "cell_type": "code",
   "execution_count": 12,
   "metadata": {},
   "outputs": [
    {
     "name": "stdout",
     "output_type": "stream",
     "text": [
      "Valor: 2400.0\n"
     ]
    }
   ],
   "source": [
    "# Setar desconto\n",
    "preco = 100\n",
    "DESCONTO10 = 0.1\n",
    "DESCONTO20 = 0.2\n",
    "quantidade = eval(input(\"Quantidade: \"))\n",
    "if(quantidade<10):\n",
    "    print(f\"Valor: {preco*quantidade}\")\n",
    "elif(quantidade<20):\n",
    "    print(f\"Valor: {preco*quantidade*(1-DESCONTO10)}\")\n",
    "else:\n",
    "    print(f\"Valor: {preco*quantidade*(1-DESCONTO20)}\")\n"
   ]
  },
  {
   "cell_type": "code",
   "execution_count": 13,
   "metadata": {},
   "outputs": [
    {
     "name": "stdout",
     "output_type": "stream",
     "text": [
      "18\n"
     ]
    }
   ],
   "source": [
    "arr=[10,2,5,7,6,3]\n",
    "total=0\n",
    "for i in arr:\n",
    "    if(i%2==0):\n",
    "        total+=i\n",
    "print(total)"
   ]
  },
  {
   "cell_type": "code",
   "execution_count": 16,
   "metadata": {},
   "outputs": [
    {
     "name": "stdout",
     "output_type": "stream",
     "text": [
      "2\n",
      "4\n",
      "6\n",
      "8\n"
     ]
    }
   ],
   "source": [
    "for item in range(2, 9, 2):\n",
    "    print(item)\n",
    "\n",
    "nome = input(\"Entre com seu nome: \\n\")\n",
    "for letra in nome:\n",
    "    print(letra)"
   ]
  }
 ],
 "metadata": {
  "kernelspec": {
   "display_name": "Python 3",
   "language": "python",
   "name": "python3"
  },
  "language_info": {
   "codemirror_mode": {
    "name": "ipython",
    "version": 3
   },
   "file_extension": ".py",
   "mimetype": "text/x-python",
   "name": "python",
   "nbconvert_exporter": "python",
   "pygments_lexer": "ipython3",
   "version": "3.11.2"
  },
  "orig_nbformat": 4
 },
 "nbformat": 4,
 "nbformat_minor": 2
}
